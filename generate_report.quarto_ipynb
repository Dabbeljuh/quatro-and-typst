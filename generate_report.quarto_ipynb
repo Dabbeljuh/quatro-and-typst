{
  "cells": [
    {
      "cell_type": "markdown",
      "metadata": {},
      "source": [
        "---\n",
        "title: \"Coach Reports\"\n",
        "format: \n",
        "    pdf:\n",
        "        documentclass: report\n",
        "        output-file: \"testing_parameters.pdf\"\n",
        "echo: false\n",
        "---"
      ],
      "id": "fe686aed"
    },
    {
      "cell_type": "code",
      "metadata": {
        "tags": [
          "parameters"
        ]
      },
      "source": [
        "# ['Coach A' 'Coach B' 'Coach C' 'Coach D' 'Coach E' 'Coach F' 'Coach G'\n",
        "# 'Coach T' 'Coach H' 'Coach I']\n",
        "\n",
        "# just testing parameters\n",
        "number = 5\n",
        "\n",
        "# Name des Coaches für Report\n",
        "coach_name = 'Coach T'"
      ],
      "id": "8b7e1559",
      "execution_count": null,
      "outputs": []
    },
    {
      "cell_type": "code",
      "metadata": {},
      "source": [
        "import pandas as pd\n",
        "\n",
        "df = pd.read_csv('./data/csv_for_figure_examples.csv')\n",
        "\n",
        "def generate_summary(coach_name, df):\n",
        "    # Filter data for the specific coach\n",
        "    coach_data = df[df[\"coach\"] == coach_name]\n",
        "    summary = {}\n",
        "\n",
        "    # Define question columns\n",
        "    question_columns = [\n",
        "        col\n",
        "        for col in df.columns\n",
        "        if col.endswith((\"_1\", \"_2\", \"_3\", \"_4\", \"_5\", \"_6\", \"_7\", \"_8\"))\n",
        "    ]\n",
        "\n",
        "    # Only process question columns if they exist\n",
        "    if question_columns:\n",
        "        for col in question_columns:\n",
        "            low_scores = coach_data[coach_data[col] <= 2][col]\n",
        "            if not low_scores.empty:\n",
        "                summary[col] = low_scores.values.tolist()\n",
        "\n",
        "    # Define summary columns and process them\n",
        "    summary_columns = [col for col in df.columns if col.endswith(\"_summary\")] + [\n",
        "        \"gesamtbewertung\"\n",
        "    ]\n",
        "    for col in summary_columns:\n",
        "        summary[col] = (coach_data[col].mean(), coach_data[col].notna().sum())\n",
        "\n",
        "    # Add total data points\n",
        "    summary[\"total_data_points\"] = len(coach_data)\n",
        "\n",
        "    return summary\n",
        "\n",
        "column_label_mapping = {\n",
        "    \"rbd_summary\": \"Rahmenbedingungen\",\n",
        "    \"auf_summary\": \"Auftragsklärung\",\n",
        "    \"zus_summary\": \"Zusammenarbeit\",\n",
        "    \"erg_summary\": \"Erreicht\",\n",
        "    \"bwr_summary\": \"Bewertung\",\n",
        "    \"gesamtbewertung\": \"Gesamtbewertung\",\n",
        "}\n",
        "selected_categories = [\n",
        "    \"rbd_summary\",\n",
        "    \"auf_summary\",\n",
        "    \"zus_summary\",\n",
        "    \"erg_summary\",\n",
        "    \"bwr_summary\",\n",
        "    \"gesamtbewertung\",\n",
        "]"
      ],
      "id": "98e627e2",
      "execution_count": null,
      "outputs": []
    },
    {
      "cell_type": "code",
      "metadata": {},
      "source": [
        "average_score = df[df['coach'] == coach_name]['gesamtbewertung'].mean()"
      ],
      "id": "db19293a",
      "execution_count": null,
      "outputs": []
    },
    {
      "cell_type": "markdown",
      "metadata": {},
      "source": [
        "# Report for `{python} coach_name`\n",
        "\n",
        "\n",
        "\n",
        "## Test 1"
      ],
      "id": "85c1ccfd"
    },
    {
      "cell_type": "code",
      "metadata": {},
      "source": [
        "print(f\"{coach_name} has an average score of {average_score:.2f}\")"
      ],
      "id": "8971dff1",
      "execution_count": null,
      "outputs": []
    },
    {
      "cell_type": "markdown",
      "metadata": {},
      "source": [
        "## Test parmater number\n"
      ],
      "id": "07a414b7"
    },
    {
      "cell_type": "code",
      "metadata": {},
      "source": [
        "print(f\"The number is {number}\")"
      ],
      "id": "df5cc873",
      "execution_count": null,
      "outputs": []
    },
    {
      "cell_type": "markdown",
      "metadata": {},
      "source": [
        "## Figure 1\n",
        "\n",
        "\n",
        "\n",
        "\n",
        "## Figure 5\n"
      ],
      "id": "6ccdddf7"
    }
  ],
  "metadata": {
    "kernelspec": {
      "name": "python3",
      "language": "python",
      "display_name": "Python 3 (ipykernel)",
      "path": "C:\\Users\\JosephWiesemeier\\AppData\\Local\\Packages\\PythonSoftwareFoundation.Python.3.13_qbz5n2kfra8p0\\LocalCache\\local-packages\\share\\jupyter\\kernels\\python3"
    }
  },
  "nbformat": 4,
  "nbformat_minor": 5
}